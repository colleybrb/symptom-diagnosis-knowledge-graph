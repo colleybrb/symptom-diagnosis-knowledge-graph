{
 "cells": [
  {
   "cell_type": "code",
   "execution_count": 2,
   "id": "cb788d40-dd4f-4f87-a624-ce3e1b92fe29",
   "metadata": {},
   "outputs": [],
   "source": [
    "import numpy as np\n",
    "import pandas as pd\n",
    "from datetime import datetime\n",
    "from datetime import timedelta\n",
    "import re\n",
    "from re import match\n",
    "import getpass\n",
    "import io\n",
    "import os, json\n",
    "import netmiko\n",
    "from netmiko import ConnectHandler\n",
    "from py2neo import Graph"
   ]
  },
  {
   "cell_type": "code",
   "execution_count": 20,
   "id": "775fceab-1143-442d-b36a-9d35786f470d",
   "metadata": {},
   "outputs": [],
   "source": [
    "graph = Graph(\"bolt://localhost:7687\", user=\"neo4j\", password=\"temp\",name=\"diagnos\")"
   ]
  },
  {
   "cell_type": "code",
   "execution_count": 35,
   "id": "63683ede-c4d1-40de-b99b-16a5213f2e5d",
   "metadata": {},
   "outputs": [
    {
     "name": "stdout",
     "output_type": "stream",
     "text": [
      "ok\n"
     ]
    }
   ],
   "source": [
    "try:\n",
    "    graph.run(\"Match () Return 1 Limit 1\")\n",
    "    print('ok')\n",
    "except Exception:\n",
    "    print('not ok')\n",
    "my_node = graph.run(\"MATCH (n) DETACH DELETE n\")"
   ]
  },
  {
   "cell_type": "code",
   "execution_count": 34,
   "id": "0e19cf15-8808-4c60-a2d9-8b9a0375c41b",
   "metadata": {},
   "outputs": [
    {
     "name": "stdout",
     "output_type": "stream",
     "text": [
      "1866\n",
      "134\n",
      "                                               Disease  \\\n",
      "0    UMLS:C0001175_acquired immuno-deficiency syndr...   \n",
      "0    UMLS:C0001175_acquired immuno-deficiency syndr...   \n",
      "0    UMLS:C0001175_acquired immuno-deficiency syndr...   \n",
      "0    UMLS:C0001175_acquired immuno-deficiency syndr...   \n",
      "0    UMLS:C0001175_acquired immuno-deficiency syndr...   \n",
      "..                                                 ...   \n",
      "133                            UMLS:C1623038_cirrhosis   \n",
      "133                            UMLS:C1623038_cirrhosis   \n",
      "133                            UMLS:C1623038_cirrhosis   \n",
      "133                            UMLS:C1623038_cirrhosis   \n",
      "133                            UMLS:C1623038_cirrhosis   \n",
      "\n",
      "    Count of Disease Occurrence  \\\n",
      "0                         350.0   \n",
      "0                         350.0   \n",
      "0                         350.0   \n",
      "0                         350.0   \n",
      "0                         350.0   \n",
      "..                          ...   \n",
      "133                       218.0   \n",
      "133                       218.0   \n",
      "133                       218.0   \n",
      "133                       218.0   \n",
      "133                       218.0   \n",
      "\n",
      "                                            Symptom  \n",
      "0                               UMLS:C0015967_fever  \n",
      "0                         UMLS:C0028081_night sweat  \n",
      "0    UMLS:C0233308_spontaneous rupture of membranes  \n",
      "0                               UMLS:C0010200_cough  \n",
      "0                                    UMLS:C0032739_  \n",
      "..                                              ...  \n",
      "133                            UMLS:C0221198_lesion  \n",
      "133            UMLS:C0578150_hemodynamically stable  \n",
      "133                   UMLS:C0744492_guaiac positive  \n",
      "133                     UMLS:C0234233_sore to touch  \n",
      "133                UMLS:C0151706_bleeding of vagina  \n",
      "\n",
      "[1865 rows x 3 columns]\n"
     ]
    }
   ],
   "source": [
    "diagnos = pd.read_csv (r'C:\\Users\\VBAPHCColleD\\Downloads\\diagnos.csv',skip_blank_lines=True) \n",
    "print(len(diagnos.index))\n",
    "diagnos = diagnos.groupby(['Disease']).agg(tuple).applymap(list).reset_index()\n",
    "print(len(diagnos.index))\n",
    "diagnos[\"Count of Disease Occurrence\"] = diagnos[\"Count of Disease Occurrence\"].apply(lambda x: [i for i in x if str(i) != \"nan\"])\n",
    "\n",
    "diagnos=diagnos.explode('Symptom')\n",
    "\n",
    "for i, row in diagnos.iterrows():\n",
    "    row['Count of Disease Occurrence']=row['Count of Disease Occurrence'][0]\n",
    "#diagnos.to_csv(\"diag.csv\",index=False)\n",
    "print(diagnos)"
   ]
  },
  {
   "cell_type": "code",
   "execution_count": 36,
   "id": "b2d5e5f0-3f10-4afb-819b-d3f7a862dca8",
   "metadata": {},
   "outputs": [
    {
     "name": "stdout",
     "output_type": "stream",
     "text": [
      "ok\n"
     ]
    }
   ],
   "source": [
    "try:\n",
    "    graph.run(\"Match () Return 1 Limit 1\")\n",
    "    print('ok')\n",
    "except Exception:\n",
    "    print('not ok')\n",
    "tx = graph.begin()\n",
    "for index, row in diagnos.iterrows():\n",
    "    tx.evaluate('''\n",
    "    MERGE (s:SYMPTOM {Name: $Symptom})\n",
    "    MERGE (d:DISEASE {Name: $Disease})\n",
    "    CREATE (s)-[i:SYMPTOM_OF]->(d)\n",
    "    SET i.Occurence = toInteger($Occurence)\n",
    "    ''', parameters = {'Symptom':row['Symptom'], 'Disease': row['Disease'],'Occurence': row['Count of Disease Occurrence']})\n",
    "graph.commit(tx) "
   ]
  },
  {
   "cell_type": "code",
   "execution_count": 40,
   "id": "fbf3b810-f3cd-43e8-84c9-53da8fc4e6cd",
   "metadata": {},
   "outputs": [
    {
     "name": "stdout",
     "output_type": "stream",
     "text": [
      "(_1770:DISEASE {Name: 'UMLS:C0011570_depression mental^UMLS:C0011581_depressive disorder'})\n"
     ]
    }
   ],
   "source": [
    "manualEntry='UMLS:C0455769_energy increased'\n",
    "theCypherQuery= '''MATCH (a:SYMPTOM {Name:$queryparam})-[r]-(b)\n",
    "WITH a as SYMPTOM,b as Diag, r.Occurence as relation_value\n",
    "ORDER BY relation_value DESC\n",
    "RETURN Diag LIMIT 1'''\n",
    "\n",
    "cypherResult = graph.evaluate(theCypherQuery,parameters = {'queryparam':manualEntry})\n",
    "print(cypherResult)"
   ]
  },
  {
   "cell_type": "code",
   "execution_count": 57,
   "id": "d6c1f845-41f9-41dd-b06c-7b5cb962aefd",
   "metadata": {},
   "outputs": [
    {
     "name": "stdout",
     "output_type": "stream",
     "text": [
      "['depression mental', 'depressive disorder']\n",
      "https://www.merckmanuals.com/professional/SearchResults?query=depression+mental+&species=\n",
      "https://www.merckmanuals.com/professional/SearchResults?query=depressive+disorder+&species=\n"
     ]
    }
   ],
   "source": [
    "results=(cypherResult[\"Name\"])\n",
    "\n",
    "list_results=results.split('^')\n",
    "query=[]\n",
    "for result in list_results:\n",
    "    tempvar=(result.split('_')[1])\n",
    "    query.append(tempvar)\n",
    "print(query)\n",
    "for var in query:    \n",
    "    query_string=\"https://www.merckmanuals.com/professional/SearchResults?query=\"\n",
    "    var_list=var.split(' ')\n",
    "    for wor in var_list:\n",
    "        query_string=query_string+wor+\"+\"\n",
    "    query_string=query_string+\"&species=\"\n",
    "    print(query_string)"
   ]
  }
 ],
 "metadata": {
  "kernelspec": {
   "display_name": "Python 3.9.13 64-bit",
   "language": "python",
   "name": "python3"
  },
  "language_info": {
   "codemirror_mode": {
    "name": "ipython",
    "version": 3
   },
   "file_extension": ".py",
   "mimetype": "text/x-python",
   "name": "python",
   "nbconvert_exporter": "python",
   "pygments_lexer": "ipython3",
   "version": "3.9.13"
  },
  "vscode": {
   "interpreter": {
    "hash": "202e4dd1e8815464a272cce09a7c37b9922276ddad2206b61931d9f320da2ee4"
   }
  }
 },
 "nbformat": 4,
 "nbformat_minor": 5
}
